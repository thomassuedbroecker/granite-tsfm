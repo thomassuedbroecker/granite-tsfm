{
 "cells": [
  {
   "cell_type": "markdown",
   "metadata": {},
   "source": [
    "# Install IBM-Granite/granite-tsfm repository\n",
    "\n",
    "This notebook installs the IBM Time Series Foundation Model repository."
   ]
  },
  {
   "cell_type": "code",
   "execution_count": 1,
   "metadata": {},
   "outputs": [
    {
     "name": "stdout",
     "output_type": "stream",
     "text": [
      "Collecting tsfm_public@ git+https://github.com/ibm-granite/granite-tsfm.git@v0.2.8 (from tsfm_public[notebooks]@ git+https://github.com/ibm-granite/granite-tsfm.git@v0.2.8)\n",
      "  Cloning https://github.com/ibm-granite/granite-tsfm.git (to revision v0.2.8) to /private/var/folders/ft/cb9p67ks7cd0wn7yvkk_yylc0000gn/T/pip-install-up5bag_5/tsfm-public_79e3c98c041d435785e2452c15a67631\n",
      "  Running command git clone --filter=blob:none --quiet https://github.com/ibm-granite/granite-tsfm.git /private/var/folders/ft/cb9p67ks7cd0wn7yvkk_yylc0000gn/T/pip-install-up5bag_5/tsfm-public_79e3c98c041d435785e2452c15a67631\n",
      "  Running command git checkout -q c2f07f2604b9729c18be21f6a4da26da1e72b6c2\n",
      "  Resolved https://github.com/ibm-granite/granite-tsfm.git to commit c2f07f2604b9729c18be21f6a4da26da1e72b6c2\n",
      "  Installing build dependencies ... \u001b[?25ldone\n",
      "\u001b[?25h  Getting requirements to build wheel ... \u001b[?25ldone\n",
      "\u001b[?25h  Preparing metadata (pyproject.toml) ... \u001b[?25ldone\n",
      "\u001b[?25hRequirement already satisfied: pandas>=2.2.0 in /Users/thomassuedbroecker/Documents/tsuedbro/dev/granite-tsfm/.venv/lib/python3.12/site-packages (from tsfm_public@ git+https://github.com/ibm-granite/granite-tsfm.git@v0.2.8->tsfm_public[notebooks]@ git+https://github.com/ibm-granite/granite-tsfm.git@v0.2.8) (2.2.3)\n",
      "Requirement already satisfied: scikit-learn in /Users/thomassuedbroecker/Documents/tsuedbro/dev/granite-tsfm/.venv/lib/python3.12/site-packages (from tsfm_public@ git+https://github.com/ibm-granite/granite-tsfm.git@v0.2.8->tsfm_public[notebooks]@ git+https://github.com/ibm-granite/granite-tsfm.git@v0.2.8) (1.5.2)\n",
      "Requirement already satisfied: transformers>=4.38.0 in /Users/thomassuedbroecker/Documents/tsuedbro/dev/granite-tsfm/.venv/lib/python3.12/site-packages (from transformers[torch]>=4.38.0->tsfm_public@ git+https://github.com/ibm-granite/granite-tsfm.git@v0.2.8->tsfm_public[notebooks]@ git+https://github.com/ibm-granite/granite-tsfm.git@v0.2.8) (4.45.2)\n",
      "Requirement already satisfied: datasets in /Users/thomassuedbroecker/Documents/tsuedbro/dev/granite-tsfm/.venv/lib/python3.12/site-packages (from tsfm_public@ git+https://github.com/ibm-granite/granite-tsfm.git@v0.2.8->tsfm_public[notebooks]@ git+https://github.com/ibm-granite/granite-tsfm.git@v0.2.8) (3.0.1)\n",
      "Requirement already satisfied: deprecated in /Users/thomassuedbroecker/Documents/tsuedbro/dev/granite-tsfm/.venv/lib/python3.12/site-packages (from tsfm_public@ git+https://github.com/ibm-granite/granite-tsfm.git@v0.2.8->tsfm_public[notebooks]@ git+https://github.com/ibm-granite/granite-tsfm.git@v0.2.8) (1.2.14)\n",
      "Requirement already satisfied: urllib3<2,>=1.26.19 in /Users/thomassuedbroecker/Documents/tsuedbro/dev/granite-tsfm/.venv/lib/python3.12/site-packages (from tsfm_public@ git+https://github.com/ibm-granite/granite-tsfm.git@v0.2.8->tsfm_public[notebooks]@ git+https://github.com/ibm-granite/granite-tsfm.git@v0.2.8) (1.26.20)\n",
      "Requirement already satisfied: numpy<2 in /Users/thomassuedbroecker/Documents/tsuedbro/dev/granite-tsfm/.venv/lib/python3.12/site-packages (from tsfm_public@ git+https://github.com/ibm-granite/granite-tsfm.git@v0.2.8->tsfm_public[notebooks]@ git+https://github.com/ibm-granite/granite-tsfm.git@v0.2.8) (1.26.4)\n",
      "Requirement already satisfied: jupyter in /Users/thomassuedbroecker/Documents/tsuedbro/dev/granite-tsfm/.venv/lib/python3.12/site-packages (from tsfm_public@ git+https://github.com/ibm-granite/granite-tsfm.git@v0.2.8->tsfm_public[notebooks]@ git+https://github.com/ibm-granite/granite-tsfm.git@v0.2.8) (1.1.1)\n",
      "Requirement already satisfied: matplotlib in /Users/thomassuedbroecker/Documents/tsuedbro/dev/granite-tsfm/.venv/lib/python3.12/site-packages (from tsfm_public@ git+https://github.com/ibm-granite/granite-tsfm.git@v0.2.8->tsfm_public[notebooks]@ git+https://github.com/ibm-granite/granite-tsfm.git@v0.2.8) (3.9.2)\n",
      "Requirement already satisfied: ipywidgets in /Users/thomassuedbroecker/Documents/tsuedbro/dev/granite-tsfm/.venv/lib/python3.12/site-packages (from tsfm_public@ git+https://github.com/ibm-granite/granite-tsfm.git@v0.2.8->tsfm_public[notebooks]@ git+https://github.com/ibm-granite/granite-tsfm.git@v0.2.8) (8.1.5)\n",
      "Requirement already satisfied: plotly in /Users/thomassuedbroecker/Documents/tsuedbro/dev/granite-tsfm/.venv/lib/python3.12/site-packages (from tsfm_public@ git+https://github.com/ibm-granite/granite-tsfm.git@v0.2.8->tsfm_public[notebooks]@ git+https://github.com/ibm-granite/granite-tsfm.git@v0.2.8) (5.24.1)\n",
      "Requirement already satisfied: kaleido in /Users/thomassuedbroecker/Documents/tsuedbro/dev/granite-tsfm/.venv/lib/python3.12/site-packages (from tsfm_public@ git+https://github.com/ibm-granite/granite-tsfm.git@v0.2.8->tsfm_public[notebooks]@ git+https://github.com/ibm-granite/granite-tsfm.git@v0.2.8) (0.2.1)\n",
      "Requirement already satisfied: tensorboard in /Users/thomassuedbroecker/Documents/tsuedbro/dev/granite-tsfm/.venv/lib/python3.12/site-packages (from tsfm_public@ git+https://github.com/ibm-granite/granite-tsfm.git@v0.2.8->tsfm_public[notebooks]@ git+https://github.com/ibm-granite/granite-tsfm.git@v0.2.8) (2.18.0)\n",
      "Requirement already satisfied: python-dateutil>=2.8.2 in /Users/thomassuedbroecker/Documents/tsuedbro/dev/granite-tsfm/.venv/lib/python3.12/site-packages (from pandas>=2.2.0->tsfm_public@ git+https://github.com/ibm-granite/granite-tsfm.git@v0.2.8->tsfm_public[notebooks]@ git+https://github.com/ibm-granite/granite-tsfm.git@v0.2.8) (2.9.0.post0)\n",
      "Requirement already satisfied: pytz>=2020.1 in /Users/thomassuedbroecker/Documents/tsuedbro/dev/granite-tsfm/.venv/lib/python3.12/site-packages (from pandas>=2.2.0->tsfm_public@ git+https://github.com/ibm-granite/granite-tsfm.git@v0.2.8->tsfm_public[notebooks]@ git+https://github.com/ibm-granite/granite-tsfm.git@v0.2.8) (2024.2)\n",
      "Requirement already satisfied: tzdata>=2022.7 in /Users/thomassuedbroecker/Documents/tsuedbro/dev/granite-tsfm/.venv/lib/python3.12/site-packages (from pandas>=2.2.0->tsfm_public@ git+https://github.com/ibm-granite/granite-tsfm.git@v0.2.8->tsfm_public[notebooks]@ git+https://github.com/ibm-granite/granite-tsfm.git@v0.2.8) (2024.2)\n",
      "Requirement already satisfied: filelock in /Users/thomassuedbroecker/Documents/tsuedbro/dev/granite-tsfm/.venv/lib/python3.12/site-packages (from transformers>=4.38.0->transformers[torch]>=4.38.0->tsfm_public@ git+https://github.com/ibm-granite/granite-tsfm.git@v0.2.8->tsfm_public[notebooks]@ git+https://github.com/ibm-granite/granite-tsfm.git@v0.2.8) (3.16.1)\n",
      "Requirement already satisfied: huggingface-hub<1.0,>=0.23.2 in /Users/thomassuedbroecker/Documents/tsuedbro/dev/granite-tsfm/.venv/lib/python3.12/site-packages (from transformers>=4.38.0->transformers[torch]>=4.38.0->tsfm_public@ git+https://github.com/ibm-granite/granite-tsfm.git@v0.2.8->tsfm_public[notebooks]@ git+https://github.com/ibm-granite/granite-tsfm.git@v0.2.8) (0.25.1)\n",
      "Requirement already satisfied: packaging>=20.0 in /Users/thomassuedbroecker/Documents/tsuedbro/dev/granite-tsfm/.venv/lib/python3.12/site-packages (from transformers>=4.38.0->transformers[torch]>=4.38.0->tsfm_public@ git+https://github.com/ibm-granite/granite-tsfm.git@v0.2.8->tsfm_public[notebooks]@ git+https://github.com/ibm-granite/granite-tsfm.git@v0.2.8) (24.1)\n",
      "Requirement already satisfied: pyyaml>=5.1 in /Users/thomassuedbroecker/Documents/tsuedbro/dev/granite-tsfm/.venv/lib/python3.12/site-packages (from transformers>=4.38.0->transformers[torch]>=4.38.0->tsfm_public@ git+https://github.com/ibm-granite/granite-tsfm.git@v0.2.8->tsfm_public[notebooks]@ git+https://github.com/ibm-granite/granite-tsfm.git@v0.2.8) (6.0.2)\n",
      "Requirement already satisfied: regex!=2019.12.17 in /Users/thomassuedbroecker/Documents/tsuedbro/dev/granite-tsfm/.venv/lib/python3.12/site-packages (from transformers>=4.38.0->transformers[torch]>=4.38.0->tsfm_public@ git+https://github.com/ibm-granite/granite-tsfm.git@v0.2.8->tsfm_public[notebooks]@ git+https://github.com/ibm-granite/granite-tsfm.git@v0.2.8) (2024.9.11)\n",
      "Requirement already satisfied: requests in /Users/thomassuedbroecker/Documents/tsuedbro/dev/granite-tsfm/.venv/lib/python3.12/site-packages (from transformers>=4.38.0->transformers[torch]>=4.38.0->tsfm_public@ git+https://github.com/ibm-granite/granite-tsfm.git@v0.2.8->tsfm_public[notebooks]@ git+https://github.com/ibm-granite/granite-tsfm.git@v0.2.8) (2.32.3)\n",
      "Requirement already satisfied: safetensors>=0.4.1 in /Users/thomassuedbroecker/Documents/tsuedbro/dev/granite-tsfm/.venv/lib/python3.12/site-packages (from transformers>=4.38.0->transformers[torch]>=4.38.0->tsfm_public@ git+https://github.com/ibm-granite/granite-tsfm.git@v0.2.8->tsfm_public[notebooks]@ git+https://github.com/ibm-granite/granite-tsfm.git@v0.2.8) (0.4.5)\n",
      "Requirement already satisfied: tokenizers<0.21,>=0.20 in /Users/thomassuedbroecker/Documents/tsuedbro/dev/granite-tsfm/.venv/lib/python3.12/site-packages (from transformers>=4.38.0->transformers[torch]>=4.38.0->tsfm_public@ git+https://github.com/ibm-granite/granite-tsfm.git@v0.2.8->tsfm_public[notebooks]@ git+https://github.com/ibm-granite/granite-tsfm.git@v0.2.8) (0.20.0)\n",
      "Requirement already satisfied: tqdm>=4.27 in /Users/thomassuedbroecker/Documents/tsuedbro/dev/granite-tsfm/.venv/lib/python3.12/site-packages (from transformers>=4.38.0->transformers[torch]>=4.38.0->tsfm_public@ git+https://github.com/ibm-granite/granite-tsfm.git@v0.2.8->tsfm_public[notebooks]@ git+https://github.com/ibm-granite/granite-tsfm.git@v0.2.8) (4.66.5)\n",
      "Requirement already satisfied: accelerate>=0.26.0 in /Users/thomassuedbroecker/Documents/tsuedbro/dev/granite-tsfm/.venv/lib/python3.12/site-packages (from transformers[torch]>=4.38.0->tsfm_public@ git+https://github.com/ibm-granite/granite-tsfm.git@v0.2.8->tsfm_public[notebooks]@ git+https://github.com/ibm-granite/granite-tsfm.git@v0.2.8) (1.0.0)\n",
      "Requirement already satisfied: torch in /Users/thomassuedbroecker/Documents/tsuedbro/dev/granite-tsfm/.venv/lib/python3.12/site-packages (from transformers[torch]>=4.38.0->tsfm_public@ git+https://github.com/ibm-granite/granite-tsfm.git@v0.2.8->tsfm_public[notebooks]@ git+https://github.com/ibm-granite/granite-tsfm.git@v0.2.8) (2.4.1)\n",
      "Requirement already satisfied: pyarrow>=15.0.0 in /Users/thomassuedbroecker/Documents/tsuedbro/dev/granite-tsfm/.venv/lib/python3.12/site-packages (from datasets->tsfm_public@ git+https://github.com/ibm-granite/granite-tsfm.git@v0.2.8->tsfm_public[notebooks]@ git+https://github.com/ibm-granite/granite-tsfm.git@v0.2.8) (17.0.0)\n",
      "Requirement already satisfied: dill<0.3.9,>=0.3.0 in /Users/thomassuedbroecker/Documents/tsuedbro/dev/granite-tsfm/.venv/lib/python3.12/site-packages (from datasets->tsfm_public@ git+https://github.com/ibm-granite/granite-tsfm.git@v0.2.8->tsfm_public[notebooks]@ git+https://github.com/ibm-granite/granite-tsfm.git@v0.2.8) (0.3.8)\n",
      "Requirement already satisfied: xxhash in /Users/thomassuedbroecker/Documents/tsuedbro/dev/granite-tsfm/.venv/lib/python3.12/site-packages (from datasets->tsfm_public@ git+https://github.com/ibm-granite/granite-tsfm.git@v0.2.8->tsfm_public[notebooks]@ git+https://github.com/ibm-granite/granite-tsfm.git@v0.2.8) (3.5.0)\n",
      "Requirement already satisfied: multiprocess in /Users/thomassuedbroecker/Documents/tsuedbro/dev/granite-tsfm/.venv/lib/python3.12/site-packages (from datasets->tsfm_public@ git+https://github.com/ibm-granite/granite-tsfm.git@v0.2.8->tsfm_public[notebooks]@ git+https://github.com/ibm-granite/granite-tsfm.git@v0.2.8) (0.70.16)\n",
      "Requirement already satisfied: fsspec<=2024.6.1,>=2023.1.0 in /Users/thomassuedbroecker/Documents/tsuedbro/dev/granite-tsfm/.venv/lib/python3.12/site-packages (from fsspec[http]<=2024.6.1,>=2023.1.0->datasets->tsfm_public@ git+https://github.com/ibm-granite/granite-tsfm.git@v0.2.8->tsfm_public[notebooks]@ git+https://github.com/ibm-granite/granite-tsfm.git@v0.2.8) (2024.6.1)\n",
      "Requirement already satisfied: aiohttp in /Users/thomassuedbroecker/Documents/tsuedbro/dev/granite-tsfm/.venv/lib/python3.12/site-packages (from datasets->tsfm_public@ git+https://github.com/ibm-granite/granite-tsfm.git@v0.2.8->tsfm_public[notebooks]@ git+https://github.com/ibm-granite/granite-tsfm.git@v0.2.8) (3.10.9)\n",
      "Requirement already satisfied: wrapt<2,>=1.10 in /Users/thomassuedbroecker/Documents/tsuedbro/dev/granite-tsfm/.venv/lib/python3.12/site-packages (from deprecated->tsfm_public@ git+https://github.com/ibm-granite/granite-tsfm.git@v0.2.8->tsfm_public[notebooks]@ git+https://github.com/ibm-granite/granite-tsfm.git@v0.2.8) (1.16.0)\n",
      "Requirement already satisfied: comm>=0.1.3 in /Users/thomassuedbroecker/Documents/tsuedbro/dev/granite-tsfm/.venv/lib/python3.12/site-packages (from ipywidgets->tsfm_public@ git+https://github.com/ibm-granite/granite-tsfm.git@v0.2.8->tsfm_public[notebooks]@ git+https://github.com/ibm-granite/granite-tsfm.git@v0.2.8) (0.2.2)\n",
      "Requirement already satisfied: ipython>=6.1.0 in /Users/thomassuedbroecker/Documents/tsuedbro/dev/granite-tsfm/.venv/lib/python3.12/site-packages (from ipywidgets->tsfm_public@ git+https://github.com/ibm-granite/granite-tsfm.git@v0.2.8->tsfm_public[notebooks]@ git+https://github.com/ibm-granite/granite-tsfm.git@v0.2.8) (8.28.0)\n",
      "Requirement already satisfied: traitlets>=4.3.1 in /Users/thomassuedbroecker/Documents/tsuedbro/dev/granite-tsfm/.venv/lib/python3.12/site-packages (from ipywidgets->tsfm_public@ git+https://github.com/ibm-granite/granite-tsfm.git@v0.2.8->tsfm_public[notebooks]@ git+https://github.com/ibm-granite/granite-tsfm.git@v0.2.8) (5.14.3)\n",
      "Requirement already satisfied: widgetsnbextension~=4.0.12 in /Users/thomassuedbroecker/Documents/tsuedbro/dev/granite-tsfm/.venv/lib/python3.12/site-packages (from ipywidgets->tsfm_public@ git+https://github.com/ibm-granite/granite-tsfm.git@v0.2.8->tsfm_public[notebooks]@ git+https://github.com/ibm-granite/granite-tsfm.git@v0.2.8) (4.0.13)\n",
      "Requirement already satisfied: jupyterlab-widgets~=3.0.12 in /Users/thomassuedbroecker/Documents/tsuedbro/dev/granite-tsfm/.venv/lib/python3.12/site-packages (from ipywidgets->tsfm_public@ git+https://github.com/ibm-granite/granite-tsfm.git@v0.2.8->tsfm_public[notebooks]@ git+https://github.com/ibm-granite/granite-tsfm.git@v0.2.8) (3.0.13)\n",
      "Requirement already satisfied: notebook in /Users/thomassuedbroecker/Documents/tsuedbro/dev/granite-tsfm/.venv/lib/python3.12/site-packages (from jupyter->tsfm_public@ git+https://github.com/ibm-granite/granite-tsfm.git@v0.2.8->tsfm_public[notebooks]@ git+https://github.com/ibm-granite/granite-tsfm.git@v0.2.8) (7.2.2)\n",
      "Requirement already satisfied: jupyter-console in /Users/thomassuedbroecker/Documents/tsuedbro/dev/granite-tsfm/.venv/lib/python3.12/site-packages (from jupyter->tsfm_public@ git+https://github.com/ibm-granite/granite-tsfm.git@v0.2.8->tsfm_public[notebooks]@ git+https://github.com/ibm-granite/granite-tsfm.git@v0.2.8) (6.6.3)\n",
      "Requirement already satisfied: nbconvert in /Users/thomassuedbroecker/Documents/tsuedbro/dev/granite-tsfm/.venv/lib/python3.12/site-packages (from jupyter->tsfm_public@ git+https://github.com/ibm-granite/granite-tsfm.git@v0.2.8->tsfm_public[notebooks]@ git+https://github.com/ibm-granite/granite-tsfm.git@v0.2.8) (7.16.4)\n",
      "Requirement already satisfied: ipykernel in /Users/thomassuedbroecker/Documents/tsuedbro/dev/granite-tsfm/.venv/lib/python3.12/site-packages (from jupyter->tsfm_public@ git+https://github.com/ibm-granite/granite-tsfm.git@v0.2.8->tsfm_public[notebooks]@ git+https://github.com/ibm-granite/granite-tsfm.git@v0.2.8) (6.29.5)\n",
      "Requirement already satisfied: jupyterlab in /Users/thomassuedbroecker/Documents/tsuedbro/dev/granite-tsfm/.venv/lib/python3.12/site-packages (from jupyter->tsfm_public@ git+https://github.com/ibm-granite/granite-tsfm.git@v0.2.8->tsfm_public[notebooks]@ git+https://github.com/ibm-granite/granite-tsfm.git@v0.2.8) (4.2.5)\n",
      "Requirement already satisfied: contourpy>=1.0.1 in /Users/thomassuedbroecker/Documents/tsuedbro/dev/granite-tsfm/.venv/lib/python3.12/site-packages (from matplotlib->tsfm_public@ git+https://github.com/ibm-granite/granite-tsfm.git@v0.2.8->tsfm_public[notebooks]@ git+https://github.com/ibm-granite/granite-tsfm.git@v0.2.8) (1.3.0)\n",
      "Requirement already satisfied: cycler>=0.10 in /Users/thomassuedbroecker/Documents/tsuedbro/dev/granite-tsfm/.venv/lib/python3.12/site-packages (from matplotlib->tsfm_public@ git+https://github.com/ibm-granite/granite-tsfm.git@v0.2.8->tsfm_public[notebooks]@ git+https://github.com/ibm-granite/granite-tsfm.git@v0.2.8) (0.12.1)\n",
      "Requirement already satisfied: fonttools>=4.22.0 in /Users/thomassuedbroecker/Documents/tsuedbro/dev/granite-tsfm/.venv/lib/python3.12/site-packages (from matplotlib->tsfm_public@ git+https://github.com/ibm-granite/granite-tsfm.git@v0.2.8->tsfm_public[notebooks]@ git+https://github.com/ibm-granite/granite-tsfm.git@v0.2.8) (4.54.1)\n",
      "Requirement already satisfied: kiwisolver>=1.3.1 in /Users/thomassuedbroecker/Documents/tsuedbro/dev/granite-tsfm/.venv/lib/python3.12/site-packages (from matplotlib->tsfm_public@ git+https://github.com/ibm-granite/granite-tsfm.git@v0.2.8->tsfm_public[notebooks]@ git+https://github.com/ibm-granite/granite-tsfm.git@v0.2.8) (1.4.7)\n",
      "Requirement already satisfied: pillow>=8 in /Users/thomassuedbroecker/Documents/tsuedbro/dev/granite-tsfm/.venv/lib/python3.12/site-packages (from matplotlib->tsfm_public@ git+https://github.com/ibm-granite/granite-tsfm.git@v0.2.8->tsfm_public[notebooks]@ git+https://github.com/ibm-granite/granite-tsfm.git@v0.2.8) (10.4.0)\n",
      "Requirement already satisfied: pyparsing>=2.3.1 in /Users/thomassuedbroecker/Documents/tsuedbro/dev/granite-tsfm/.venv/lib/python3.12/site-packages (from matplotlib->tsfm_public@ git+https://github.com/ibm-granite/granite-tsfm.git@v0.2.8->tsfm_public[notebooks]@ git+https://github.com/ibm-granite/granite-tsfm.git@v0.2.8) (3.1.4)\n",
      "Requirement already satisfied: tenacity>=6.2.0 in /Users/thomassuedbroecker/Documents/tsuedbro/dev/granite-tsfm/.venv/lib/python3.12/site-packages (from plotly->tsfm_public@ git+https://github.com/ibm-granite/granite-tsfm.git@v0.2.8->tsfm_public[notebooks]@ git+https://github.com/ibm-granite/granite-tsfm.git@v0.2.8) (9.0.0)\n",
      "Requirement already satisfied: scipy>=1.6.0 in /Users/thomassuedbroecker/Documents/tsuedbro/dev/granite-tsfm/.venv/lib/python3.12/site-packages (from scikit-learn->tsfm_public@ git+https://github.com/ibm-granite/granite-tsfm.git@v0.2.8->tsfm_public[notebooks]@ git+https://github.com/ibm-granite/granite-tsfm.git@v0.2.8) (1.14.1)\n",
      "Requirement already satisfied: joblib>=1.2.0 in /Users/thomassuedbroecker/Documents/tsuedbro/dev/granite-tsfm/.venv/lib/python3.12/site-packages (from scikit-learn->tsfm_public@ git+https://github.com/ibm-granite/granite-tsfm.git@v0.2.8->tsfm_public[notebooks]@ git+https://github.com/ibm-granite/granite-tsfm.git@v0.2.8) (1.4.2)\n",
      "Requirement already satisfied: threadpoolctl>=3.1.0 in /Users/thomassuedbroecker/Documents/tsuedbro/dev/granite-tsfm/.venv/lib/python3.12/site-packages (from scikit-learn->tsfm_public@ git+https://github.com/ibm-granite/granite-tsfm.git@v0.2.8->tsfm_public[notebooks]@ git+https://github.com/ibm-granite/granite-tsfm.git@v0.2.8) (3.5.0)\n",
      "Requirement already satisfied: absl-py>=0.4 in /Users/thomassuedbroecker/Documents/tsuedbro/dev/granite-tsfm/.venv/lib/python3.12/site-packages (from tensorboard->tsfm_public@ git+https://github.com/ibm-granite/granite-tsfm.git@v0.2.8->tsfm_public[notebooks]@ git+https://github.com/ibm-granite/granite-tsfm.git@v0.2.8) (2.1.0)\n",
      "Requirement already satisfied: grpcio>=1.48.2 in /Users/thomassuedbroecker/Documents/tsuedbro/dev/granite-tsfm/.venv/lib/python3.12/site-packages (from tensorboard->tsfm_public@ git+https://github.com/ibm-granite/granite-tsfm.git@v0.2.8->tsfm_public[notebooks]@ git+https://github.com/ibm-granite/granite-tsfm.git@v0.2.8) (1.66.2)\n",
      "Requirement already satisfied: markdown>=2.6.8 in /Users/thomassuedbroecker/Documents/tsuedbro/dev/granite-tsfm/.venv/lib/python3.12/site-packages (from tensorboard->tsfm_public@ git+https://github.com/ibm-granite/granite-tsfm.git@v0.2.8->tsfm_public[notebooks]@ git+https://github.com/ibm-granite/granite-tsfm.git@v0.2.8) (3.7)\n",
      "Requirement already satisfied: protobuf!=4.24.0,>=3.19.6 in /Users/thomassuedbroecker/Documents/tsuedbro/dev/granite-tsfm/.venv/lib/python3.12/site-packages (from tensorboard->tsfm_public@ git+https://github.com/ibm-granite/granite-tsfm.git@v0.2.8->tsfm_public[notebooks]@ git+https://github.com/ibm-granite/granite-tsfm.git@v0.2.8) (5.28.2)\n",
      "Requirement already satisfied: setuptools>=41.0.0 in /Users/thomassuedbroecker/Documents/tsuedbro/dev/granite-tsfm/.venv/lib/python3.12/site-packages (from tensorboard->tsfm_public@ git+https://github.com/ibm-granite/granite-tsfm.git@v0.2.8->tsfm_public[notebooks]@ git+https://github.com/ibm-granite/granite-tsfm.git@v0.2.8) (75.1.0)\n",
      "Requirement already satisfied: six>1.9 in /Users/thomassuedbroecker/Documents/tsuedbro/dev/granite-tsfm/.venv/lib/python3.12/site-packages (from tensorboard->tsfm_public@ git+https://github.com/ibm-granite/granite-tsfm.git@v0.2.8->tsfm_public[notebooks]@ git+https://github.com/ibm-granite/granite-tsfm.git@v0.2.8) (1.16.0)\n",
      "Requirement already satisfied: tensorboard-data-server<0.8.0,>=0.7.0 in /Users/thomassuedbroecker/Documents/tsuedbro/dev/granite-tsfm/.venv/lib/python3.12/site-packages (from tensorboard->tsfm_public@ git+https://github.com/ibm-granite/granite-tsfm.git@v0.2.8->tsfm_public[notebooks]@ git+https://github.com/ibm-granite/granite-tsfm.git@v0.2.8) (0.7.2)\n",
      "Requirement already satisfied: werkzeug>=1.0.1 in /Users/thomassuedbroecker/Documents/tsuedbro/dev/granite-tsfm/.venv/lib/python3.12/site-packages (from tensorboard->tsfm_public@ git+https://github.com/ibm-granite/granite-tsfm.git@v0.2.8->tsfm_public[notebooks]@ git+https://github.com/ibm-granite/granite-tsfm.git@v0.2.8) (3.0.4)\n",
      "Requirement already satisfied: psutil in /Users/thomassuedbroecker/Documents/tsuedbro/dev/granite-tsfm/.venv/lib/python3.12/site-packages (from accelerate>=0.26.0->transformers[torch]>=4.38.0->tsfm_public@ git+https://github.com/ibm-granite/granite-tsfm.git@v0.2.8->tsfm_public[notebooks]@ git+https://github.com/ibm-granite/granite-tsfm.git@v0.2.8) (6.0.0)\n",
      "Requirement already satisfied: aiohappyeyeballs>=2.3.0 in /Users/thomassuedbroecker/Documents/tsuedbro/dev/granite-tsfm/.venv/lib/python3.12/site-packages (from aiohttp->datasets->tsfm_public@ git+https://github.com/ibm-granite/granite-tsfm.git@v0.2.8->tsfm_public[notebooks]@ git+https://github.com/ibm-granite/granite-tsfm.git@v0.2.8) (2.4.3)\n",
      "Requirement already satisfied: aiosignal>=1.1.2 in /Users/thomassuedbroecker/Documents/tsuedbro/dev/granite-tsfm/.venv/lib/python3.12/site-packages (from aiohttp->datasets->tsfm_public@ git+https://github.com/ibm-granite/granite-tsfm.git@v0.2.8->tsfm_public[notebooks]@ git+https://github.com/ibm-granite/granite-tsfm.git@v0.2.8) (1.3.1)\n",
      "Requirement already satisfied: attrs>=17.3.0 in /Users/thomassuedbroecker/Documents/tsuedbro/dev/granite-tsfm/.venv/lib/python3.12/site-packages (from aiohttp->datasets->tsfm_public@ git+https://github.com/ibm-granite/granite-tsfm.git@v0.2.8->tsfm_public[notebooks]@ git+https://github.com/ibm-granite/granite-tsfm.git@v0.2.8) (24.2.0)\n",
      "Requirement already satisfied: frozenlist>=1.1.1 in /Users/thomassuedbroecker/Documents/tsuedbro/dev/granite-tsfm/.venv/lib/python3.12/site-packages (from aiohttp->datasets->tsfm_public@ git+https://github.com/ibm-granite/granite-tsfm.git@v0.2.8->tsfm_public[notebooks]@ git+https://github.com/ibm-granite/granite-tsfm.git@v0.2.8) (1.4.1)\n",
      "Requirement already satisfied: multidict<7.0,>=4.5 in /Users/thomassuedbroecker/Documents/tsuedbro/dev/granite-tsfm/.venv/lib/python3.12/site-packages (from aiohttp->datasets->tsfm_public@ git+https://github.com/ibm-granite/granite-tsfm.git@v0.2.8->tsfm_public[notebooks]@ git+https://github.com/ibm-granite/granite-tsfm.git@v0.2.8) (6.1.0)\n",
      "Requirement already satisfied: yarl<2.0,>=1.12.0 in /Users/thomassuedbroecker/Documents/tsuedbro/dev/granite-tsfm/.venv/lib/python3.12/site-packages (from aiohttp->datasets->tsfm_public@ git+https://github.com/ibm-granite/granite-tsfm.git@v0.2.8->tsfm_public[notebooks]@ git+https://github.com/ibm-granite/granite-tsfm.git@v0.2.8) (1.14.0)\n",
      "Requirement already satisfied: typing-extensions>=3.7.4.3 in /Users/thomassuedbroecker/Documents/tsuedbro/dev/granite-tsfm/.venv/lib/python3.12/site-packages (from huggingface-hub<1.0,>=0.23.2->transformers>=4.38.0->transformers[torch]>=4.38.0->tsfm_public@ git+https://github.com/ibm-granite/granite-tsfm.git@v0.2.8->tsfm_public[notebooks]@ git+https://github.com/ibm-granite/granite-tsfm.git@v0.2.8) (4.12.2)\n",
      "Requirement already satisfied: decorator in /Users/thomassuedbroecker/Documents/tsuedbro/dev/granite-tsfm/.venv/lib/python3.12/site-packages (from ipython>=6.1.0->ipywidgets->tsfm_public@ git+https://github.com/ibm-granite/granite-tsfm.git@v0.2.8->tsfm_public[notebooks]@ git+https://github.com/ibm-granite/granite-tsfm.git@v0.2.8) (5.1.1)\n",
      "Requirement already satisfied: jedi>=0.16 in /Users/thomassuedbroecker/Documents/tsuedbro/dev/granite-tsfm/.venv/lib/python3.12/site-packages (from ipython>=6.1.0->ipywidgets->tsfm_public@ git+https://github.com/ibm-granite/granite-tsfm.git@v0.2.8->tsfm_public[notebooks]@ git+https://github.com/ibm-granite/granite-tsfm.git@v0.2.8) (0.19.1)\n",
      "Requirement already satisfied: matplotlib-inline in /Users/thomassuedbroecker/Documents/tsuedbro/dev/granite-tsfm/.venv/lib/python3.12/site-packages (from ipython>=6.1.0->ipywidgets->tsfm_public@ git+https://github.com/ibm-granite/granite-tsfm.git@v0.2.8->tsfm_public[notebooks]@ git+https://github.com/ibm-granite/granite-tsfm.git@v0.2.8) (0.1.7)\n",
      "Requirement already satisfied: prompt-toolkit<3.1.0,>=3.0.41 in /Users/thomassuedbroecker/Documents/tsuedbro/dev/granite-tsfm/.venv/lib/python3.12/site-packages (from ipython>=6.1.0->ipywidgets->tsfm_public@ git+https://github.com/ibm-granite/granite-tsfm.git@v0.2.8->tsfm_public[notebooks]@ git+https://github.com/ibm-granite/granite-tsfm.git@v0.2.8) (3.0.48)\n",
      "Requirement already satisfied: pygments>=2.4.0 in /Users/thomassuedbroecker/Documents/tsuedbro/dev/granite-tsfm/.venv/lib/python3.12/site-packages (from ipython>=6.1.0->ipywidgets->tsfm_public@ git+https://github.com/ibm-granite/granite-tsfm.git@v0.2.8->tsfm_public[notebooks]@ git+https://github.com/ibm-granite/granite-tsfm.git@v0.2.8) (2.18.0)\n",
      "Requirement already satisfied: stack-data in /Users/thomassuedbroecker/Documents/tsuedbro/dev/granite-tsfm/.venv/lib/python3.12/site-packages (from ipython>=6.1.0->ipywidgets->tsfm_public@ git+https://github.com/ibm-granite/granite-tsfm.git@v0.2.8->tsfm_public[notebooks]@ git+https://github.com/ibm-granite/granite-tsfm.git@v0.2.8) (0.6.3)\n",
      "Requirement already satisfied: pexpect>4.3 in /Users/thomassuedbroecker/Documents/tsuedbro/dev/granite-tsfm/.venv/lib/python3.12/site-packages (from ipython>=6.1.0->ipywidgets->tsfm_public@ git+https://github.com/ibm-granite/granite-tsfm.git@v0.2.8->tsfm_public[notebooks]@ git+https://github.com/ibm-granite/granite-tsfm.git@v0.2.8) (4.9.0)\n",
      "Requirement already satisfied: charset-normalizer<4,>=2 in /Users/thomassuedbroecker/Documents/tsuedbro/dev/granite-tsfm/.venv/lib/python3.12/site-packages (from requests->transformers>=4.38.0->transformers[torch]>=4.38.0->tsfm_public@ git+https://github.com/ibm-granite/granite-tsfm.git@v0.2.8->tsfm_public[notebooks]@ git+https://github.com/ibm-granite/granite-tsfm.git@v0.2.8) (3.4.0)\n",
      "Requirement already satisfied: idna<4,>=2.5 in /Users/thomassuedbroecker/Documents/tsuedbro/dev/granite-tsfm/.venv/lib/python3.12/site-packages (from requests->transformers>=4.38.0->transformers[torch]>=4.38.0->tsfm_public@ git+https://github.com/ibm-granite/granite-tsfm.git@v0.2.8->tsfm_public[notebooks]@ git+https://github.com/ibm-granite/granite-tsfm.git@v0.2.8) (3.10)\n",
      "Requirement already satisfied: certifi>=2017.4.17 in /Users/thomassuedbroecker/Documents/tsuedbro/dev/granite-tsfm/.venv/lib/python3.12/site-packages (from requests->transformers>=4.38.0->transformers[torch]>=4.38.0->tsfm_public@ git+https://github.com/ibm-granite/granite-tsfm.git@v0.2.8->tsfm_public[notebooks]@ git+https://github.com/ibm-granite/granite-tsfm.git@v0.2.8) (2024.8.30)\n",
      "Requirement already satisfied: sympy in /Users/thomassuedbroecker/Documents/tsuedbro/dev/granite-tsfm/.venv/lib/python3.12/site-packages (from torch->transformers[torch]>=4.38.0->tsfm_public@ git+https://github.com/ibm-granite/granite-tsfm.git@v0.2.8->tsfm_public[notebooks]@ git+https://github.com/ibm-granite/granite-tsfm.git@v0.2.8) (1.13.3)\n",
      "Requirement already satisfied: networkx in /Users/thomassuedbroecker/Documents/tsuedbro/dev/granite-tsfm/.venv/lib/python3.12/site-packages (from torch->transformers[torch]>=4.38.0->tsfm_public@ git+https://github.com/ibm-granite/granite-tsfm.git@v0.2.8->tsfm_public[notebooks]@ git+https://github.com/ibm-granite/granite-tsfm.git@v0.2.8) (3.3)\n",
      "Requirement already satisfied: jinja2 in /Users/thomassuedbroecker/Documents/tsuedbro/dev/granite-tsfm/.venv/lib/python3.12/site-packages (from torch->transformers[torch]>=4.38.0->tsfm_public@ git+https://github.com/ibm-granite/granite-tsfm.git@v0.2.8->tsfm_public[notebooks]@ git+https://github.com/ibm-granite/granite-tsfm.git@v0.2.8) (3.1.4)\n",
      "Requirement already satisfied: MarkupSafe>=2.1.1 in /Users/thomassuedbroecker/Documents/tsuedbro/dev/granite-tsfm/.venv/lib/python3.12/site-packages (from werkzeug>=1.0.1->tensorboard->tsfm_public@ git+https://github.com/ibm-granite/granite-tsfm.git@v0.2.8->tsfm_public[notebooks]@ git+https://github.com/ibm-granite/granite-tsfm.git@v0.2.8) (3.0.1)\n",
      "Requirement already satisfied: appnope in /Users/thomassuedbroecker/Documents/tsuedbro/dev/granite-tsfm/.venv/lib/python3.12/site-packages (from ipykernel->jupyter->tsfm_public@ git+https://github.com/ibm-granite/granite-tsfm.git@v0.2.8->tsfm_public[notebooks]@ git+https://github.com/ibm-granite/granite-tsfm.git@v0.2.8) (0.1.4)\n",
      "Requirement already satisfied: debugpy>=1.6.5 in /Users/thomassuedbroecker/Documents/tsuedbro/dev/granite-tsfm/.venv/lib/python3.12/site-packages (from ipykernel->jupyter->tsfm_public@ git+https://github.com/ibm-granite/granite-tsfm.git@v0.2.8->tsfm_public[notebooks]@ git+https://github.com/ibm-granite/granite-tsfm.git@v0.2.8) (1.8.6)\n",
      "Requirement already satisfied: jupyter-client>=6.1.12 in /Users/thomassuedbroecker/Documents/tsuedbro/dev/granite-tsfm/.venv/lib/python3.12/site-packages (from ipykernel->jupyter->tsfm_public@ git+https://github.com/ibm-granite/granite-tsfm.git@v0.2.8->tsfm_public[notebooks]@ git+https://github.com/ibm-granite/granite-tsfm.git@v0.2.8) (8.6.3)\n",
      "Requirement already satisfied: jupyter-core!=5.0.*,>=4.12 in /Users/thomassuedbroecker/Documents/tsuedbro/dev/granite-tsfm/.venv/lib/python3.12/site-packages (from ipykernel->jupyter->tsfm_public@ git+https://github.com/ibm-granite/granite-tsfm.git@v0.2.8->tsfm_public[notebooks]@ git+https://github.com/ibm-granite/granite-tsfm.git@v0.2.8) (5.7.2)\n",
      "Requirement already satisfied: nest-asyncio in /Users/thomassuedbroecker/Documents/tsuedbro/dev/granite-tsfm/.venv/lib/python3.12/site-packages (from ipykernel->jupyter->tsfm_public@ git+https://github.com/ibm-granite/granite-tsfm.git@v0.2.8->tsfm_public[notebooks]@ git+https://github.com/ibm-granite/granite-tsfm.git@v0.2.8) (1.6.0)\n",
      "Requirement already satisfied: pyzmq>=24 in /Users/thomassuedbroecker/Documents/tsuedbro/dev/granite-tsfm/.venv/lib/python3.12/site-packages (from ipykernel->jupyter->tsfm_public@ git+https://github.com/ibm-granite/granite-tsfm.git@v0.2.8->tsfm_public[notebooks]@ git+https://github.com/ibm-granite/granite-tsfm.git@v0.2.8) (26.2.0)\n",
      "Requirement already satisfied: tornado>=6.1 in /Users/thomassuedbroecker/Documents/tsuedbro/dev/granite-tsfm/.venv/lib/python3.12/site-packages (from ipykernel->jupyter->tsfm_public@ git+https://github.com/ibm-granite/granite-tsfm.git@v0.2.8->tsfm_public[notebooks]@ git+https://github.com/ibm-granite/granite-tsfm.git@v0.2.8) (6.4.1)\n",
      "Requirement already satisfied: async-lru>=1.0.0 in /Users/thomassuedbroecker/Documents/tsuedbro/dev/granite-tsfm/.venv/lib/python3.12/site-packages (from jupyterlab->jupyter->tsfm_public@ git+https://github.com/ibm-granite/granite-tsfm.git@v0.2.8->tsfm_public[notebooks]@ git+https://github.com/ibm-granite/granite-tsfm.git@v0.2.8) (2.0.4)\n",
      "Requirement already satisfied: httpx>=0.25.0 in /Users/thomassuedbroecker/Documents/tsuedbro/dev/granite-tsfm/.venv/lib/python3.12/site-packages (from jupyterlab->jupyter->tsfm_public@ git+https://github.com/ibm-granite/granite-tsfm.git@v0.2.8->tsfm_public[notebooks]@ git+https://github.com/ibm-granite/granite-tsfm.git@v0.2.8) (0.27.2)\n",
      "Requirement already satisfied: jupyter-lsp>=2.0.0 in /Users/thomassuedbroecker/Documents/tsuedbro/dev/granite-tsfm/.venv/lib/python3.12/site-packages (from jupyterlab->jupyter->tsfm_public@ git+https://github.com/ibm-granite/granite-tsfm.git@v0.2.8->tsfm_public[notebooks]@ git+https://github.com/ibm-granite/granite-tsfm.git@v0.2.8) (2.2.5)\n",
      "Requirement already satisfied: jupyter-server<3,>=2.4.0 in /Users/thomassuedbroecker/Documents/tsuedbro/dev/granite-tsfm/.venv/lib/python3.12/site-packages (from jupyterlab->jupyter->tsfm_public@ git+https://github.com/ibm-granite/granite-tsfm.git@v0.2.8->tsfm_public[notebooks]@ git+https://github.com/ibm-granite/granite-tsfm.git@v0.2.8) (2.14.2)\n",
      "Requirement already satisfied: jupyterlab-server<3,>=2.27.1 in /Users/thomassuedbroecker/Documents/tsuedbro/dev/granite-tsfm/.venv/lib/python3.12/site-packages (from jupyterlab->jupyter->tsfm_public@ git+https://github.com/ibm-granite/granite-tsfm.git@v0.2.8->tsfm_public[notebooks]@ git+https://github.com/ibm-granite/granite-tsfm.git@v0.2.8) (2.27.3)\n",
      "Requirement already satisfied: notebook-shim>=0.2 in /Users/thomassuedbroecker/Documents/tsuedbro/dev/granite-tsfm/.venv/lib/python3.12/site-packages (from jupyterlab->jupyter->tsfm_public@ git+https://github.com/ibm-granite/granite-tsfm.git@v0.2.8->tsfm_public[notebooks]@ git+https://github.com/ibm-granite/granite-tsfm.git@v0.2.8) (0.2.4)\n",
      "Requirement already satisfied: beautifulsoup4 in /Users/thomassuedbroecker/Documents/tsuedbro/dev/granite-tsfm/.venv/lib/python3.12/site-packages (from nbconvert->jupyter->tsfm_public@ git+https://github.com/ibm-granite/granite-tsfm.git@v0.2.8->tsfm_public[notebooks]@ git+https://github.com/ibm-granite/granite-tsfm.git@v0.2.8) (4.12.3)\n",
      "Requirement already satisfied: bleach!=5.0.0 in /Users/thomassuedbroecker/Documents/tsuedbro/dev/granite-tsfm/.venv/lib/python3.12/site-packages (from nbconvert->jupyter->tsfm_public@ git+https://github.com/ibm-granite/granite-tsfm.git@v0.2.8->tsfm_public[notebooks]@ git+https://github.com/ibm-granite/granite-tsfm.git@v0.2.8) (6.1.0)\n",
      "Requirement already satisfied: defusedxml in /Users/thomassuedbroecker/Documents/tsuedbro/dev/granite-tsfm/.venv/lib/python3.12/site-packages (from nbconvert->jupyter->tsfm_public@ git+https://github.com/ibm-granite/granite-tsfm.git@v0.2.8->tsfm_public[notebooks]@ git+https://github.com/ibm-granite/granite-tsfm.git@v0.2.8) (0.7.1)\n",
      "Requirement already satisfied: jupyterlab-pygments in /Users/thomassuedbroecker/Documents/tsuedbro/dev/granite-tsfm/.venv/lib/python3.12/site-packages (from nbconvert->jupyter->tsfm_public@ git+https://github.com/ibm-granite/granite-tsfm.git@v0.2.8->tsfm_public[notebooks]@ git+https://github.com/ibm-granite/granite-tsfm.git@v0.2.8) (0.3.0)\n",
      "Requirement already satisfied: mistune<4,>=2.0.3 in /Users/thomassuedbroecker/Documents/tsuedbro/dev/granite-tsfm/.venv/lib/python3.12/site-packages (from nbconvert->jupyter->tsfm_public@ git+https://github.com/ibm-granite/granite-tsfm.git@v0.2.8->tsfm_public[notebooks]@ git+https://github.com/ibm-granite/granite-tsfm.git@v0.2.8) (3.0.2)\n",
      "Requirement already satisfied: nbclient>=0.5.0 in /Users/thomassuedbroecker/Documents/tsuedbro/dev/granite-tsfm/.venv/lib/python3.12/site-packages (from nbconvert->jupyter->tsfm_public@ git+https://github.com/ibm-granite/granite-tsfm.git@v0.2.8->tsfm_public[notebooks]@ git+https://github.com/ibm-granite/granite-tsfm.git@v0.2.8) (0.10.0)\n",
      "Requirement already satisfied: nbformat>=5.7 in /Users/thomassuedbroecker/Documents/tsuedbro/dev/granite-tsfm/.venv/lib/python3.12/site-packages (from nbconvert->jupyter->tsfm_public@ git+https://github.com/ibm-granite/granite-tsfm.git@v0.2.8->tsfm_public[notebooks]@ git+https://github.com/ibm-granite/granite-tsfm.git@v0.2.8) (5.10.4)\n",
      "Requirement already satisfied: pandocfilters>=1.4.1 in /Users/thomassuedbroecker/Documents/tsuedbro/dev/granite-tsfm/.venv/lib/python3.12/site-packages (from nbconvert->jupyter->tsfm_public@ git+https://github.com/ibm-granite/granite-tsfm.git@v0.2.8->tsfm_public[notebooks]@ git+https://github.com/ibm-granite/granite-tsfm.git@v0.2.8) (1.5.1)\n",
      "Requirement already satisfied: tinycss2 in /Users/thomassuedbroecker/Documents/tsuedbro/dev/granite-tsfm/.venv/lib/python3.12/site-packages (from nbconvert->jupyter->tsfm_public@ git+https://github.com/ibm-granite/granite-tsfm.git@v0.2.8->tsfm_public[notebooks]@ git+https://github.com/ibm-granite/granite-tsfm.git@v0.2.8) (1.3.0)\n",
      "Requirement already satisfied: webencodings in /Users/thomassuedbroecker/Documents/tsuedbro/dev/granite-tsfm/.venv/lib/python3.12/site-packages (from bleach!=5.0.0->nbconvert->jupyter->tsfm_public@ git+https://github.com/ibm-granite/granite-tsfm.git@v0.2.8->tsfm_public[notebooks]@ git+https://github.com/ibm-granite/granite-tsfm.git@v0.2.8) (0.5.1)\n",
      "Requirement already satisfied: anyio in /Users/thomassuedbroecker/Documents/tsuedbro/dev/granite-tsfm/.venv/lib/python3.12/site-packages (from httpx>=0.25.0->jupyterlab->jupyter->tsfm_public@ git+https://github.com/ibm-granite/granite-tsfm.git@v0.2.8->tsfm_public[notebooks]@ git+https://github.com/ibm-granite/granite-tsfm.git@v0.2.8) (4.6.0)\n",
      "Requirement already satisfied: httpcore==1.* in /Users/thomassuedbroecker/Documents/tsuedbro/dev/granite-tsfm/.venv/lib/python3.12/site-packages (from httpx>=0.25.0->jupyterlab->jupyter->tsfm_public@ git+https://github.com/ibm-granite/granite-tsfm.git@v0.2.8->tsfm_public[notebooks]@ git+https://github.com/ibm-granite/granite-tsfm.git@v0.2.8) (1.0.6)\n",
      "Requirement already satisfied: sniffio in /Users/thomassuedbroecker/Documents/tsuedbro/dev/granite-tsfm/.venv/lib/python3.12/site-packages (from httpx>=0.25.0->jupyterlab->jupyter->tsfm_public@ git+https://github.com/ibm-granite/granite-tsfm.git@v0.2.8->tsfm_public[notebooks]@ git+https://github.com/ibm-granite/granite-tsfm.git@v0.2.8) (1.3.1)\n",
      "Requirement already satisfied: h11<0.15,>=0.13 in /Users/thomassuedbroecker/Documents/tsuedbro/dev/granite-tsfm/.venv/lib/python3.12/site-packages (from httpcore==1.*->httpx>=0.25.0->jupyterlab->jupyter->tsfm_public@ git+https://github.com/ibm-granite/granite-tsfm.git@v0.2.8->tsfm_public[notebooks]@ git+https://github.com/ibm-granite/granite-tsfm.git@v0.2.8) (0.14.0)\n",
      "Requirement already satisfied: parso<0.9.0,>=0.8.3 in /Users/thomassuedbroecker/Documents/tsuedbro/dev/granite-tsfm/.venv/lib/python3.12/site-packages (from jedi>=0.16->ipython>=6.1.0->ipywidgets->tsfm_public@ git+https://github.com/ibm-granite/granite-tsfm.git@v0.2.8->tsfm_public[notebooks]@ git+https://github.com/ibm-granite/granite-tsfm.git@v0.2.8) (0.8.4)\n",
      "Requirement already satisfied: platformdirs>=2.5 in /Users/thomassuedbroecker/Documents/tsuedbro/dev/granite-tsfm/.venv/lib/python3.12/site-packages (from jupyter-core!=5.0.*,>=4.12->ipykernel->jupyter->tsfm_public@ git+https://github.com/ibm-granite/granite-tsfm.git@v0.2.8->tsfm_public[notebooks]@ git+https://github.com/ibm-granite/granite-tsfm.git@v0.2.8) (4.3.6)\n",
      "Requirement already satisfied: argon2-cffi>=21.1 in /Users/thomassuedbroecker/Documents/tsuedbro/dev/granite-tsfm/.venv/lib/python3.12/site-packages (from jupyter-server<3,>=2.4.0->jupyterlab->jupyter->tsfm_public@ git+https://github.com/ibm-granite/granite-tsfm.git@v0.2.8->tsfm_public[notebooks]@ git+https://github.com/ibm-granite/granite-tsfm.git@v0.2.8) (23.1.0)\n",
      "Requirement already satisfied: jupyter-events>=0.9.0 in /Users/thomassuedbroecker/Documents/tsuedbro/dev/granite-tsfm/.venv/lib/python3.12/site-packages (from jupyter-server<3,>=2.4.0->jupyterlab->jupyter->tsfm_public@ git+https://github.com/ibm-granite/granite-tsfm.git@v0.2.8->tsfm_public[notebooks]@ git+https://github.com/ibm-granite/granite-tsfm.git@v0.2.8) (0.10.0)\n",
      "Requirement already satisfied: jupyter-server-terminals>=0.4.4 in /Users/thomassuedbroecker/Documents/tsuedbro/dev/granite-tsfm/.venv/lib/python3.12/site-packages (from jupyter-server<3,>=2.4.0->jupyterlab->jupyter->tsfm_public@ git+https://github.com/ibm-granite/granite-tsfm.git@v0.2.8->tsfm_public[notebooks]@ git+https://github.com/ibm-granite/granite-tsfm.git@v0.2.8) (0.5.3)\n",
      "Requirement already satisfied: overrides>=5.0 in /Users/thomassuedbroecker/Documents/tsuedbro/dev/granite-tsfm/.venv/lib/python3.12/site-packages (from jupyter-server<3,>=2.4.0->jupyterlab->jupyter->tsfm_public@ git+https://github.com/ibm-granite/granite-tsfm.git@v0.2.8->tsfm_public[notebooks]@ git+https://github.com/ibm-granite/granite-tsfm.git@v0.2.8) (7.7.0)\n",
      "Requirement already satisfied: prometheus-client>=0.9 in /Users/thomassuedbroecker/Documents/tsuedbro/dev/granite-tsfm/.venv/lib/python3.12/site-packages (from jupyter-server<3,>=2.4.0->jupyterlab->jupyter->tsfm_public@ git+https://github.com/ibm-granite/granite-tsfm.git@v0.2.8->tsfm_public[notebooks]@ git+https://github.com/ibm-granite/granite-tsfm.git@v0.2.8) (0.21.0)\n",
      "Requirement already satisfied: send2trash>=1.8.2 in /Users/thomassuedbroecker/Documents/tsuedbro/dev/granite-tsfm/.venv/lib/python3.12/site-packages (from jupyter-server<3,>=2.4.0->jupyterlab->jupyter->tsfm_public@ git+https://github.com/ibm-granite/granite-tsfm.git@v0.2.8->tsfm_public[notebooks]@ git+https://github.com/ibm-granite/granite-tsfm.git@v0.2.8) (1.8.3)\n",
      "Requirement already satisfied: terminado>=0.8.3 in /Users/thomassuedbroecker/Documents/tsuedbro/dev/granite-tsfm/.venv/lib/python3.12/site-packages (from jupyter-server<3,>=2.4.0->jupyterlab->jupyter->tsfm_public@ git+https://github.com/ibm-granite/granite-tsfm.git@v0.2.8->tsfm_public[notebooks]@ git+https://github.com/ibm-granite/granite-tsfm.git@v0.2.8) (0.18.1)\n",
      "Requirement already satisfied: websocket-client>=1.7 in /Users/thomassuedbroecker/Documents/tsuedbro/dev/granite-tsfm/.venv/lib/python3.12/site-packages (from jupyter-server<3,>=2.4.0->jupyterlab->jupyter->tsfm_public@ git+https://github.com/ibm-granite/granite-tsfm.git@v0.2.8->tsfm_public[notebooks]@ git+https://github.com/ibm-granite/granite-tsfm.git@v0.2.8) (1.8.0)\n",
      "Requirement already satisfied: babel>=2.10 in /Users/thomassuedbroecker/Documents/tsuedbro/dev/granite-tsfm/.venv/lib/python3.12/site-packages (from jupyterlab-server<3,>=2.27.1->jupyterlab->jupyter->tsfm_public@ git+https://github.com/ibm-granite/granite-tsfm.git@v0.2.8->tsfm_public[notebooks]@ git+https://github.com/ibm-granite/granite-tsfm.git@v0.2.8) (2.16.0)\n",
      "Requirement already satisfied: json5>=0.9.0 in /Users/thomassuedbroecker/Documents/tsuedbro/dev/granite-tsfm/.venv/lib/python3.12/site-packages (from jupyterlab-server<3,>=2.27.1->jupyterlab->jupyter->tsfm_public@ git+https://github.com/ibm-granite/granite-tsfm.git@v0.2.8->tsfm_public[notebooks]@ git+https://github.com/ibm-granite/granite-tsfm.git@v0.2.8) (0.9.25)\n",
      "Requirement already satisfied: jsonschema>=4.18.0 in /Users/thomassuedbroecker/Documents/tsuedbro/dev/granite-tsfm/.venv/lib/python3.12/site-packages (from jupyterlab-server<3,>=2.27.1->jupyterlab->jupyter->tsfm_public@ git+https://github.com/ibm-granite/granite-tsfm.git@v0.2.8->tsfm_public[notebooks]@ git+https://github.com/ibm-granite/granite-tsfm.git@v0.2.8) (4.23.0)\n",
      "Requirement already satisfied: fastjsonschema>=2.15 in /Users/thomassuedbroecker/Documents/tsuedbro/dev/granite-tsfm/.venv/lib/python3.12/site-packages (from nbformat>=5.7->nbconvert->jupyter->tsfm_public@ git+https://github.com/ibm-granite/granite-tsfm.git@v0.2.8->tsfm_public[notebooks]@ git+https://github.com/ibm-granite/granite-tsfm.git@v0.2.8) (2.20.0)\n",
      "Requirement already satisfied: ptyprocess>=0.5 in /Users/thomassuedbroecker/Documents/tsuedbro/dev/granite-tsfm/.venv/lib/python3.12/site-packages (from pexpect>4.3->ipython>=6.1.0->ipywidgets->tsfm_public@ git+https://github.com/ibm-granite/granite-tsfm.git@v0.2.8->tsfm_public[notebooks]@ git+https://github.com/ibm-granite/granite-tsfm.git@v0.2.8) (0.7.0)\n",
      "Requirement already satisfied: wcwidth in /Users/thomassuedbroecker/Documents/tsuedbro/dev/granite-tsfm/.venv/lib/python3.12/site-packages (from prompt-toolkit<3.1.0,>=3.0.41->ipython>=6.1.0->ipywidgets->tsfm_public@ git+https://github.com/ibm-granite/granite-tsfm.git@v0.2.8->tsfm_public[notebooks]@ git+https://github.com/ibm-granite/granite-tsfm.git@v0.2.8) (0.2.13)\n",
      "Requirement already satisfied: propcache>=0.2.0 in /Users/thomassuedbroecker/Documents/tsuedbro/dev/granite-tsfm/.venv/lib/python3.12/site-packages (from yarl<2.0,>=1.12.0->aiohttp->datasets->tsfm_public@ git+https://github.com/ibm-granite/granite-tsfm.git@v0.2.8->tsfm_public[notebooks]@ git+https://github.com/ibm-granite/granite-tsfm.git@v0.2.8) (0.2.0)\n",
      "Requirement already satisfied: soupsieve>1.2 in /Users/thomassuedbroecker/Documents/tsuedbro/dev/granite-tsfm/.venv/lib/python3.12/site-packages (from beautifulsoup4->nbconvert->jupyter->tsfm_public@ git+https://github.com/ibm-granite/granite-tsfm.git@v0.2.8->tsfm_public[notebooks]@ git+https://github.com/ibm-granite/granite-tsfm.git@v0.2.8) (2.6)\n",
      "Requirement already satisfied: executing>=1.2.0 in /Users/thomassuedbroecker/Documents/tsuedbro/dev/granite-tsfm/.venv/lib/python3.12/site-packages (from stack-data->ipython>=6.1.0->ipywidgets->tsfm_public@ git+https://github.com/ibm-granite/granite-tsfm.git@v0.2.8->tsfm_public[notebooks]@ git+https://github.com/ibm-granite/granite-tsfm.git@v0.2.8) (2.1.0)\n",
      "Requirement already satisfied: asttokens>=2.1.0 in /Users/thomassuedbroecker/Documents/tsuedbro/dev/granite-tsfm/.venv/lib/python3.12/site-packages (from stack-data->ipython>=6.1.0->ipywidgets->tsfm_public@ git+https://github.com/ibm-granite/granite-tsfm.git@v0.2.8->tsfm_public[notebooks]@ git+https://github.com/ibm-granite/granite-tsfm.git@v0.2.8) (2.4.1)\n",
      "Requirement already satisfied: pure-eval in /Users/thomassuedbroecker/Documents/tsuedbro/dev/granite-tsfm/.venv/lib/python3.12/site-packages (from stack-data->ipython>=6.1.0->ipywidgets->tsfm_public@ git+https://github.com/ibm-granite/granite-tsfm.git@v0.2.8->tsfm_public[notebooks]@ git+https://github.com/ibm-granite/granite-tsfm.git@v0.2.8) (0.2.3)\n",
      "Requirement already satisfied: mpmath<1.4,>=1.1.0 in /Users/thomassuedbroecker/Documents/tsuedbro/dev/granite-tsfm/.venv/lib/python3.12/site-packages (from sympy->torch->transformers[torch]>=4.38.0->tsfm_public@ git+https://github.com/ibm-granite/granite-tsfm.git@v0.2.8->tsfm_public[notebooks]@ git+https://github.com/ibm-granite/granite-tsfm.git@v0.2.8) (1.3.0)\n",
      "Requirement already satisfied: argon2-cffi-bindings in /Users/thomassuedbroecker/Documents/tsuedbro/dev/granite-tsfm/.venv/lib/python3.12/site-packages (from argon2-cffi>=21.1->jupyter-server<3,>=2.4.0->jupyterlab->jupyter->tsfm_public@ git+https://github.com/ibm-granite/granite-tsfm.git@v0.2.8->tsfm_public[notebooks]@ git+https://github.com/ibm-granite/granite-tsfm.git@v0.2.8) (21.2.0)\n",
      "Requirement already satisfied: jsonschema-specifications>=2023.03.6 in /Users/thomassuedbroecker/Documents/tsuedbro/dev/granite-tsfm/.venv/lib/python3.12/site-packages (from jsonschema>=4.18.0->jupyterlab-server<3,>=2.27.1->jupyterlab->jupyter->tsfm_public@ git+https://github.com/ibm-granite/granite-tsfm.git@v0.2.8->tsfm_public[notebooks]@ git+https://github.com/ibm-granite/granite-tsfm.git@v0.2.8) (2024.10.1)\n",
      "Requirement already satisfied: referencing>=0.28.4 in /Users/thomassuedbroecker/Documents/tsuedbro/dev/granite-tsfm/.venv/lib/python3.12/site-packages (from jsonschema>=4.18.0->jupyterlab-server<3,>=2.27.1->jupyterlab->jupyter->tsfm_public@ git+https://github.com/ibm-granite/granite-tsfm.git@v0.2.8->tsfm_public[notebooks]@ git+https://github.com/ibm-granite/granite-tsfm.git@v0.2.8) (0.35.1)\n",
      "Requirement already satisfied: rpds-py>=0.7.1 in /Users/thomassuedbroecker/Documents/tsuedbro/dev/granite-tsfm/.venv/lib/python3.12/site-packages (from jsonschema>=4.18.0->jupyterlab-server<3,>=2.27.1->jupyterlab->jupyter->tsfm_public@ git+https://github.com/ibm-granite/granite-tsfm.git@v0.2.8->tsfm_public[notebooks]@ git+https://github.com/ibm-granite/granite-tsfm.git@v0.2.8) (0.20.0)\n",
      "Requirement already satisfied: python-json-logger>=2.0.4 in /Users/thomassuedbroecker/Documents/tsuedbro/dev/granite-tsfm/.venv/lib/python3.12/site-packages (from jupyter-events>=0.9.0->jupyter-server<3,>=2.4.0->jupyterlab->jupyter->tsfm_public@ git+https://github.com/ibm-granite/granite-tsfm.git@v0.2.8->tsfm_public[notebooks]@ git+https://github.com/ibm-granite/granite-tsfm.git@v0.2.8) (2.0.7)\n",
      "Requirement already satisfied: rfc3339-validator in /Users/thomassuedbroecker/Documents/tsuedbro/dev/granite-tsfm/.venv/lib/python3.12/site-packages (from jupyter-events>=0.9.0->jupyter-server<3,>=2.4.0->jupyterlab->jupyter->tsfm_public@ git+https://github.com/ibm-granite/granite-tsfm.git@v0.2.8->tsfm_public[notebooks]@ git+https://github.com/ibm-granite/granite-tsfm.git@v0.2.8) (0.1.4)\n",
      "Requirement already satisfied: rfc3986-validator>=0.1.1 in /Users/thomassuedbroecker/Documents/tsuedbro/dev/granite-tsfm/.venv/lib/python3.12/site-packages (from jupyter-events>=0.9.0->jupyter-server<3,>=2.4.0->jupyterlab->jupyter->tsfm_public@ git+https://github.com/ibm-granite/granite-tsfm.git@v0.2.8->tsfm_public[notebooks]@ git+https://github.com/ibm-granite/granite-tsfm.git@v0.2.8) (0.1.1)\n",
      "Requirement already satisfied: fqdn in /Users/thomassuedbroecker/Documents/tsuedbro/dev/granite-tsfm/.venv/lib/python3.12/site-packages (from jsonschema[format-nongpl]>=4.18.0->jupyter-events>=0.9.0->jupyter-server<3,>=2.4.0->jupyterlab->jupyter->tsfm_public@ git+https://github.com/ibm-granite/granite-tsfm.git@v0.2.8->tsfm_public[notebooks]@ git+https://github.com/ibm-granite/granite-tsfm.git@v0.2.8) (1.5.1)\n",
      "Requirement already satisfied: isoduration in /Users/thomassuedbroecker/Documents/tsuedbro/dev/granite-tsfm/.venv/lib/python3.12/site-packages (from jsonschema[format-nongpl]>=4.18.0->jupyter-events>=0.9.0->jupyter-server<3,>=2.4.0->jupyterlab->jupyter->tsfm_public@ git+https://github.com/ibm-granite/granite-tsfm.git@v0.2.8->tsfm_public[notebooks]@ git+https://github.com/ibm-granite/granite-tsfm.git@v0.2.8) (20.11.0)\n",
      "Requirement already satisfied: jsonpointer>1.13 in /Users/thomassuedbroecker/Documents/tsuedbro/dev/granite-tsfm/.venv/lib/python3.12/site-packages (from jsonschema[format-nongpl]>=4.18.0->jupyter-events>=0.9.0->jupyter-server<3,>=2.4.0->jupyterlab->jupyter->tsfm_public@ git+https://github.com/ibm-granite/granite-tsfm.git@v0.2.8->tsfm_public[notebooks]@ git+https://github.com/ibm-granite/granite-tsfm.git@v0.2.8) (3.0.0)\n",
      "Requirement already satisfied: uri-template in /Users/thomassuedbroecker/Documents/tsuedbro/dev/granite-tsfm/.venv/lib/python3.12/site-packages (from jsonschema[format-nongpl]>=4.18.0->jupyter-events>=0.9.0->jupyter-server<3,>=2.4.0->jupyterlab->jupyter->tsfm_public@ git+https://github.com/ibm-granite/granite-tsfm.git@v0.2.8->tsfm_public[notebooks]@ git+https://github.com/ibm-granite/granite-tsfm.git@v0.2.8) (1.3.0)\n",
      "Requirement already satisfied: webcolors>=24.6.0 in /Users/thomassuedbroecker/Documents/tsuedbro/dev/granite-tsfm/.venv/lib/python3.12/site-packages (from jsonschema[format-nongpl]>=4.18.0->jupyter-events>=0.9.0->jupyter-server<3,>=2.4.0->jupyterlab->jupyter->tsfm_public@ git+https://github.com/ibm-granite/granite-tsfm.git@v0.2.8->tsfm_public[notebooks]@ git+https://github.com/ibm-granite/granite-tsfm.git@v0.2.8) (24.8.0)\n",
      "Requirement already satisfied: cffi>=1.0.1 in /Users/thomassuedbroecker/Documents/tsuedbro/dev/granite-tsfm/.venv/lib/python3.12/site-packages (from argon2-cffi-bindings->argon2-cffi>=21.1->jupyter-server<3,>=2.4.0->jupyterlab->jupyter->tsfm_public@ git+https://github.com/ibm-granite/granite-tsfm.git@v0.2.8->tsfm_public[notebooks]@ git+https://github.com/ibm-granite/granite-tsfm.git@v0.2.8) (1.17.1)\n",
      "Requirement already satisfied: pycparser in /Users/thomassuedbroecker/Documents/tsuedbro/dev/granite-tsfm/.venv/lib/python3.12/site-packages (from cffi>=1.0.1->argon2-cffi-bindings->argon2-cffi>=21.1->jupyter-server<3,>=2.4.0->jupyterlab->jupyter->tsfm_public@ git+https://github.com/ibm-granite/granite-tsfm.git@v0.2.8->tsfm_public[notebooks]@ git+https://github.com/ibm-granite/granite-tsfm.git@v0.2.8) (2.22)\n",
      "Requirement already satisfied: arrow>=0.15.0 in /Users/thomassuedbroecker/Documents/tsuedbro/dev/granite-tsfm/.venv/lib/python3.12/site-packages (from isoduration->jsonschema[format-nongpl]>=4.18.0->jupyter-events>=0.9.0->jupyter-server<3,>=2.4.0->jupyterlab->jupyter->tsfm_public@ git+https://github.com/ibm-granite/granite-tsfm.git@v0.2.8->tsfm_public[notebooks]@ git+https://github.com/ibm-granite/granite-tsfm.git@v0.2.8) (1.3.0)\n",
      "Requirement already satisfied: types-python-dateutil>=2.8.10 in /Users/thomassuedbroecker/Documents/tsuedbro/dev/granite-tsfm/.venv/lib/python3.12/site-packages (from arrow>=0.15.0->isoduration->jsonschema[format-nongpl]>=4.18.0->jupyter-events>=0.9.0->jupyter-server<3,>=2.4.0->jupyterlab->jupyter->tsfm_public@ git+https://github.com/ibm-granite/granite-tsfm.git@v0.2.8->tsfm_public[notebooks]@ git+https://github.com/ibm-granite/granite-tsfm.git@v0.2.8) (2.9.0.20241003)\n",
      "Building wheels for collected packages: tsfm_public\n",
      "  Building wheel for tsfm_public (pyproject.toml) ... \u001b[?25ldone\n",
      "\u001b[?25h  Created wheel for tsfm_public: filename=tsfm_public-0.2.8-py3-none-any.whl size=2315977 sha256=6b88c9e99c1cb1074914b8fd1a4d4a3d3706f0330e2063d4e851b674b60afeed\n",
      "  Stored in directory: /private/var/folders/ft/cb9p67ks7cd0wn7yvkk_yylc0000gn/T/pip-ephem-wheel-cache-pna3q_ga/wheels/ff/c2/84/15a269a5f15dd09571e6da4d966076c7ffbbe470a52dcfb06d\n",
      "Successfully built tsfm_public\n",
      "Installing collected packages: tsfm_public\n",
      "  Attempting uninstall: tsfm_public\n",
      "    Found existing installation: tsfm_public 0.1.dev556+gdd44f73.d20241009\n",
      "    Uninstalling tsfm_public-0.1.dev556+gdd44f73.d20241009:\n",
      "      Successfully uninstalled tsfm_public-0.1.dev556+gdd44f73.d20241009\n",
      "Successfully installed tsfm_public-0.2.8\n"
     ]
    }
   ],
   "source": [
    "# Install ibm/tsfm\n",
    "! pip install \"tsfm_public[notebooks] @ git+https://github.com/ibm-granite/granite-tsfm.git@v0.2.8\""
   ]
  },
  {
   "cell_type": "code",
   "execution_count": 2,
   "metadata": {},
   "outputs": [
    {
     "data": {
      "application/vnd.jupyter.widget-view+json": {
       "model_id": "0410d374b0a3400d8876b52bfb82a3a4",
       "version_major": 2,
       "version_minor": 0
      },
      "text/plain": [
       "config.json:   0%|          | 0.00/1.19k [00:00<?, ?B/s]"
      ]
     },
     "metadata": {},
     "output_type": "display_data"
    },
    {
     "data": {
      "application/vnd.jupyter.widget-view+json": {
       "model_id": "cf1e0fb4f3e54abd9e53040fd1b5d83b",
       "version_major": 2,
       "version_minor": 0
      },
      "text/plain": [
       "model.safetensors:   0%|          | 0.00/3.24M [00:00<?, ?B/s]"
      ]
     },
     "metadata": {},
     "output_type": "display_data"
    },
    {
     "data": {
      "text/plain": [
       "512"
      ]
     },
     "execution_count": 2,
     "metadata": {},
     "output_type": "execute_result"
    }
   ],
   "source": [
    "# Check installation\n",
    "from tsfm_public.models.tinytimemixer import TinyTimeMixerForPrediction\n",
    "\n",
    "\n",
    "model_512 = TinyTimeMixerForPrediction.from_pretrained(\"ibm-granite/granite-timeseries-ttm-v1\", revision=\"main\")\n",
    "model_512.config.context_length"
   ]
  },
  {
   "cell_type": "code",
   "execution_count": 3,
   "metadata": {},
   "outputs": [
    {
     "data": {
      "application/vnd.jupyter.widget-view+json": {
       "model_id": "2d09bd5ef3be4fec8cf02979330c2a4c",
       "version_major": 2,
       "version_minor": 0
      },
      "text/plain": [
       "config.json:   0%|          | 0.00/1.19k [00:00<?, ?B/s]"
      ]
     },
     "metadata": {},
     "output_type": "display_data"
    },
    {
     "data": {
      "application/vnd.jupyter.widget-view+json": {
       "model_id": "acfce355db7148b0bd11b68ae071bd78",
       "version_major": 2,
       "version_minor": 0
      },
      "text/plain": [
       "model.safetensors:   0%|          | 0.00/3.80M [00:00<?, ?B/s]"
      ]
     },
     "metadata": {},
     "output_type": "display_data"
    },
    {
     "data": {
      "text/plain": [
       "16"
      ]
     },
     "execution_count": 3,
     "metadata": {},
     "output_type": "execute_result"
    }
   ],
   "source": [
    "# Check for another tsfm model\n",
    "model_1024 = TinyTimeMixerForPrediction.from_pretrained(\"ibm-granite/granite-timeseries-ttm-v1\", revision=\"1024_96_v1\")\n",
    "model_1024.config.num_patches"
   ]
  },
  {
   "cell_type": "code",
   "execution_count": null,
   "metadata": {},
   "outputs": [],
   "source": []
  }
 ],
 "metadata": {
  "kernelspec": {
   "display_name": "Python 3 (ipykernel)",
   "language": "python",
   "name": "python3"
  },
  "language_info": {
   "codemirror_mode": {
    "name": "ipython",
    "version": 3
   },
   "file_extension": ".py",
   "mimetype": "text/x-python",
   "name": "python",
   "nbconvert_exporter": "python",
   "pygments_lexer": "ipython3",
   "version": "3.12.3"
  }
 },
 "nbformat": 4,
 "nbformat_minor": 4
}
